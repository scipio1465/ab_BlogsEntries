{
 "cells": [
  {
   "cell_type": "code",
   "execution_count": 2,
   "metadata": {},
   "outputs": [],
   "source": [
    "import pandas as pd\n",
    "import numpy as np\n"
   ]
  },
  {
   "cell_type": "code",
   "execution_count": 36,
   "metadata": {},
   "outputs": [],
   "source": [
    "user_cols = ['Company','1','X','2']\n",
    "bets = pd.read_csv(\"../python_study/data/Odds.Brasil-Mexico.csv\",header=None, names=user_cols)"
   ]
  },
  {
   "cell_type": "code",
   "execution_count": 37,
   "metadata": {},
   "outputs": [
    {
     "data": {
      "text/html": [
       "<div>\n",
       "<style scoped>\n",
       "    .dataframe tbody tr th:only-of-type {\n",
       "        vertical-align: middle;\n",
       "    }\n",
       "\n",
       "    .dataframe tbody tr th {\n",
       "        vertical-align: top;\n",
       "    }\n",
       "\n",
       "    .dataframe thead th {\n",
       "        text-align: right;\n",
       "    }\n",
       "</style>\n",
       "<table border=\"1\" class=\"dataframe\">\n",
       "  <thead>\n",
       "    <tr style=\"text-align: right;\">\n",
       "      <th></th>\n",
       "      <th>Company</th>\n",
       "      <th>1</th>\n",
       "      <th>X</th>\n",
       "      <th>2</th>\n",
       "    </tr>\n",
       "  </thead>\n",
       "  <tbody>\n",
       "    <tr>\n",
       "      <th>0</th>\n",
       "      <td>10Bet</td>\n",
       "      <td>1.49</td>\n",
       "      <td>4.20</td>\n",
       "      <td>7.75</td>\n",
       "    </tr>\n",
       "    <tr>\n",
       "      <th>1</th>\n",
       "      <td>12BET</td>\n",
       "      <td>1.50</td>\n",
       "      <td>3.95</td>\n",
       "      <td>6.70</td>\n",
       "    </tr>\n",
       "    <tr>\n",
       "      <th>2</th>\n",
       "      <td>188BET</td>\n",
       "      <td>1.50</td>\n",
       "      <td>4.15</td>\n",
       "      <td>6.80</td>\n",
       "    </tr>\n",
       "    <tr>\n",
       "      <th>3</th>\n",
       "      <td>18bet</td>\n",
       "      <td>1.50</td>\n",
       "      <td>4.20</td>\n",
       "      <td>7.75</td>\n",
       "    </tr>\n",
       "    <tr>\n",
       "      <th>4</th>\n",
       "      <td>1xBet</td>\n",
       "      <td>1.55</td>\n",
       "      <td>4.20</td>\n",
       "      <td>7.70</td>\n",
       "    </tr>\n",
       "  </tbody>\n",
       "</table>\n",
       "</div>"
      ],
      "text/plain": [
       "  Company     1     X     2\n",
       "0   10Bet  1.49  4.20  7.75\n",
       "1   12BET  1.50  3.95  6.70\n",
       "2  188BET  1.50  4.15  6.80\n",
       "3   18bet  1.50  4.20  7.75\n",
       "4   1xBet  1.55  4.20  7.70"
      ]
     },
     "execution_count": 37,
     "metadata": {},
     "output_type": "execute_result"
    }
   ],
   "source": [
    "bets.head()"
   ]
  },
  {
   "cell_type": "code",
   "execution_count": 44,
   "metadata": {},
   "outputs": [],
   "source": [
    "#bets.index.name = None\n",
    "#bets.sum(axis=1)"
   ]
  },
  {
   "cell_type": "code",
   "execution_count": 45,
   "metadata": {},
   "outputs": [],
   "source": [
    "bets.set_index(\"Company\",inplace=True) #trick to put company as index ...\n",
    "#bets.index.name = None # just remove company as index name\n",
    "#bets.reset_index(inplace=True) # ... trick to put it back as column (but we loose the name): need to re-assign (or use inplce)"
   ]
  },
  {
   "cell_type": "code",
   "execution_count": 46,
   "metadata": {},
   "outputs": [
    {
     "data": {
      "text/html": [
       "<div>\n",
       "<style scoped>\n",
       "    .dataframe tbody tr th:only-of-type {\n",
       "        vertical-align: middle;\n",
       "    }\n",
       "\n",
       "    .dataframe tbody tr th {\n",
       "        vertical-align: top;\n",
       "    }\n",
       "\n",
       "    .dataframe thead th {\n",
       "        text-align: right;\n",
       "    }\n",
       "</style>\n",
       "<table border=\"1\" class=\"dataframe\">\n",
       "  <thead>\n",
       "    <tr style=\"text-align: right;\">\n",
       "      <th></th>\n",
       "      <th>1</th>\n",
       "      <th>X</th>\n",
       "      <th>2</th>\n",
       "    </tr>\n",
       "    <tr>\n",
       "      <th>Company</th>\n",
       "      <th></th>\n",
       "      <th></th>\n",
       "      <th></th>\n",
       "    </tr>\n",
       "  </thead>\n",
       "  <tbody>\n",
       "    <tr>\n",
       "      <th>10Bet</th>\n",
       "      <td>1.49</td>\n",
       "      <td>4.20</td>\n",
       "      <td>7.75</td>\n",
       "    </tr>\n",
       "    <tr>\n",
       "      <th>12BET</th>\n",
       "      <td>1.50</td>\n",
       "      <td>3.95</td>\n",
       "      <td>6.70</td>\n",
       "    </tr>\n",
       "    <tr>\n",
       "      <th>188BET</th>\n",
       "      <td>1.50</td>\n",
       "      <td>4.15</td>\n",
       "      <td>6.80</td>\n",
       "    </tr>\n",
       "    <tr>\n",
       "      <th>18bet</th>\n",
       "      <td>1.50</td>\n",
       "      <td>4.20</td>\n",
       "      <td>7.75</td>\n",
       "    </tr>\n",
       "    <tr>\n",
       "      <th>1xBet</th>\n",
       "      <td>1.55</td>\n",
       "      <td>4.20</td>\n",
       "      <td>7.70</td>\n",
       "    </tr>\n",
       "  </tbody>\n",
       "</table>\n",
       "</div>"
      ],
      "text/plain": [
       "            1     X     2\n",
       "Company                  \n",
       "10Bet    1.49  4.20  7.75\n",
       "12BET    1.50  3.95  6.70\n",
       "188BET   1.50  4.15  6.80\n",
       "18bet    1.50  4.20  7.75\n",
       "1xBet    1.55  4.20  7.70"
      ]
     },
     "execution_count": 46,
     "metadata": {},
     "output_type": "execute_result"
    }
   ],
   "source": [
    "bets.head()"
   ]
  },
  {
   "cell_type": "code",
   "execution_count": 58,
   "metadata": {},
   "outputs": [
    {
     "data": {
      "text/html": [
       "<div>\n",
       "<style scoped>\n",
       "    .dataframe tbody tr th:only-of-type {\n",
       "        vertical-align: middle;\n",
       "    }\n",
       "\n",
       "    .dataframe tbody tr th {\n",
       "        vertical-align: top;\n",
       "    }\n",
       "\n",
       "    .dataframe thead th {\n",
       "        text-align: right;\n",
       "    }\n",
       "</style>\n",
       "<table border=\"1\" class=\"dataframe\">\n",
       "  <thead>\n",
       "    <tr style=\"text-align: right;\">\n",
       "      <th></th>\n",
       "      <th>1</th>\n",
       "      <th>X</th>\n",
       "      <th>2</th>\n",
       "    </tr>\n",
       "  </thead>\n",
       "  <tbody>\n",
       "    <tr>\n",
       "      <th>10Bet</th>\n",
       "      <td>1.49</td>\n",
       "      <td>4.20</td>\n",
       "      <td>7.75</td>\n",
       "    </tr>\n",
       "    <tr>\n",
       "      <th>12BET</th>\n",
       "      <td>1.50</td>\n",
       "      <td>3.95</td>\n",
       "      <td>6.70</td>\n",
       "    </tr>\n",
       "    <tr>\n",
       "      <th>188BET</th>\n",
       "      <td>1.50</td>\n",
       "      <td>4.15</td>\n",
       "      <td>6.80</td>\n",
       "    </tr>\n",
       "    <tr>\n",
       "      <th>18bet</th>\n",
       "      <td>1.50</td>\n",
       "      <td>4.20</td>\n",
       "      <td>7.75</td>\n",
       "    </tr>\n",
       "    <tr>\n",
       "      <th>1xBet</th>\n",
       "      <td>1.55</td>\n",
       "      <td>4.20</td>\n",
       "      <td>7.70</td>\n",
       "    </tr>\n",
       "  </tbody>\n",
       "</table>\n",
       "</div>"
      ],
      "text/plain": [
       "           1     X     2\n",
       "10Bet   1.49  4.20  7.75\n",
       "12BET   1.50  3.95  6.70\n",
       "188BET  1.50  4.15  6.80\n",
       "18bet   1.50  4.20  7.75\n",
       "1xBet   1.55  4.20  7.70"
      ]
     },
     "execution_count": 58,
     "metadata": {},
     "output_type": "execute_result"
    }
   ],
   "source": [
    "bets.head()"
   ]
  },
  {
   "cell_type": "code",
   "execution_count": 51,
   "metadata": {},
   "outputs": [
    {
     "data": {
      "text/plain": [
       "Company\n",
       "10Bet     1.038268\n",
       "12BET     1.069085\n",
       "188BET    1.054689\n",
       "18bet     1.033794\n",
       "1xBet     1.013127\n",
       "dtype: float64"
      ]
     },
     "execution_count": 51,
     "metadata": {},
     "output_type": "execute_result"
    }
   ],
   "source": [
    "# To apply map I need to remove the company column, or make a mask?\n",
    "bets.apply(lambda x: 1/x).sum(axis=1).head()"
   ]
  },
  {
   "cell_type": "code",
   "execution_count": 52,
   "metadata": {},
   "outputs": [],
   "source": [
    "# or I can make a smart function that invert only numbers\n",
    "def invert(x):\n",
    "    if type(x) is str:\n",
    "        # just returns it untouched\n",
    "        return x\n",
    "    # but, if not, return it multiplied by 100\n",
    "    elif x!=0:\n",
    "        return 1/x\n",
    "    # and leave everything else\n",
    "    else:\n",
    "        return x"
   ]
  },
  {
   "cell_type": "code",
   "execution_count": 55,
   "metadata": {},
   "outputs": [
    {
     "data": {
      "text/html": [
       "<div>\n",
       "<style scoped>\n",
       "    .dataframe tbody tr th:only-of-type {\n",
       "        vertical-align: middle;\n",
       "    }\n",
       "\n",
       "    .dataframe tbody tr th {\n",
       "        vertical-align: top;\n",
       "    }\n",
       "\n",
       "    .dataframe thead th {\n",
       "        text-align: right;\n",
       "    }\n",
       "</style>\n",
       "<table border=\"1\" class=\"dataframe\">\n",
       "  <thead>\n",
       "    <tr style=\"text-align: right;\">\n",
       "      <th></th>\n",
       "      <th>Company</th>\n",
       "      <th>1</th>\n",
       "      <th>X</th>\n",
       "      <th>2</th>\n",
       "    </tr>\n",
       "  </thead>\n",
       "  <tbody>\n",
       "    <tr>\n",
       "      <th>0</th>\n",
       "      <td>10Bet</td>\n",
       "      <td>1.49</td>\n",
       "      <td>4.20</td>\n",
       "      <td>7.75</td>\n",
       "    </tr>\n",
       "    <tr>\n",
       "      <th>1</th>\n",
       "      <td>12BET</td>\n",
       "      <td>1.50</td>\n",
       "      <td>3.95</td>\n",
       "      <td>6.70</td>\n",
       "    </tr>\n",
       "    <tr>\n",
       "      <th>2</th>\n",
       "      <td>188BET</td>\n",
       "      <td>1.50</td>\n",
       "      <td>4.15</td>\n",
       "      <td>6.80</td>\n",
       "    </tr>\n",
       "    <tr>\n",
       "      <th>3</th>\n",
       "      <td>18bet</td>\n",
       "      <td>1.50</td>\n",
       "      <td>4.20</td>\n",
       "      <td>7.75</td>\n",
       "    </tr>\n",
       "    <tr>\n",
       "      <th>4</th>\n",
       "      <td>1xBet</td>\n",
       "      <td>1.55</td>\n",
       "      <td>4.20</td>\n",
       "      <td>7.70</td>\n",
       "    </tr>\n",
       "  </tbody>\n",
       "</table>\n",
       "</div>"
      ],
      "text/plain": [
       "  Company     1     X     2\n",
       "0   10Bet  1.49  4.20  7.75\n",
       "1   12BET  1.50  3.95  6.70\n",
       "2  188BET  1.50  4.15  6.80\n",
       "3   18bet  1.50  4.20  7.75\n",
       "4   1xBet  1.55  4.20  7.70"
      ]
     },
     "execution_count": 55,
     "metadata": {},
     "output_type": "execute_result"
    }
   ],
   "source": [
    "bets2 = bets.reset_index()\n",
    "bets2.head()"
   ]
  },
  {
   "cell_type": "code",
   "execution_count": 66,
   "metadata": {},
   "outputs": [
    {
     "data": {
      "text/html": [
       "<div>\n",
       "<style scoped>\n",
       "    .dataframe tbody tr th:only-of-type {\n",
       "        vertical-align: middle;\n",
       "    }\n",
       "\n",
       "    .dataframe tbody tr th {\n",
       "        vertical-align: top;\n",
       "    }\n",
       "\n",
       "    .dataframe thead th {\n",
       "        text-align: right;\n",
       "    }\n",
       "</style>\n",
       "<table border=\"1\" class=\"dataframe\">\n",
       "  <thead>\n",
       "    <tr style=\"text-align: right;\">\n",
       "      <th></th>\n",
       "      <th>Company</th>\n",
       "      <th>1</th>\n",
       "      <th>X</th>\n",
       "      <th>2</th>\n",
       "    </tr>\n",
       "  </thead>\n",
       "  <tbody>\n",
       "    <tr>\n",
       "      <th>0</th>\n",
       "      <td>10Bet</td>\n",
       "      <td>0.671141</td>\n",
       "      <td>0.238095</td>\n",
       "      <td>0.129032</td>\n",
       "    </tr>\n",
       "    <tr>\n",
       "      <th>1</th>\n",
       "      <td>12BET</td>\n",
       "      <td>0.666667</td>\n",
       "      <td>0.253165</td>\n",
       "      <td>0.149254</td>\n",
       "    </tr>\n",
       "    <tr>\n",
       "      <th>2</th>\n",
       "      <td>188BET</td>\n",
       "      <td>0.666667</td>\n",
       "      <td>0.240964</td>\n",
       "      <td>0.147059</td>\n",
       "    </tr>\n",
       "    <tr>\n",
       "      <th>3</th>\n",
       "      <td>18bet</td>\n",
       "      <td>0.666667</td>\n",
       "      <td>0.238095</td>\n",
       "      <td>0.129032</td>\n",
       "    </tr>\n",
       "    <tr>\n",
       "      <th>4</th>\n",
       "      <td>1xBet</td>\n",
       "      <td>0.645161</td>\n",
       "      <td>0.238095</td>\n",
       "      <td>0.129870</td>\n",
       "    </tr>\n",
       "  </tbody>\n",
       "</table>\n",
       "</div>"
      ],
      "text/plain": [
       "  Company         1         X         2\n",
       "0   10Bet  0.671141  0.238095  0.129032\n",
       "1   12BET  0.666667  0.253165  0.149254\n",
       "2  188BET  0.666667  0.240964  0.147059\n",
       "3   18bet  0.666667  0.238095  0.129032\n",
       "4   1xBet  0.645161  0.238095  0.129870"
      ]
     },
     "execution_count": 66,
     "metadata": {},
     "output_type": "execute_result"
    }
   ],
   "source": [
    "bets_inv = bets2.applymap(invert) #apply map is not function over column or raw, it is a element-wise function, on all elevemts\n",
    "bets_inv.head()"
   ]
  },
  {
   "cell_type": "code",
   "execution_count": 103,
   "metadata": {},
   "outputs": [],
   "source": [
    "#bets.iloc[:,:].head()"
   ]
  },
  {
   "cell_type": "code",
   "execution_count": 356,
   "metadata": {},
   "outputs": [],
   "source": [
    "from scipy import stats as stt"
   ]
  },
  {
   "cell_type": "code",
   "execution_count": 355,
   "metadata": {},
   "outputs": [
    {
     "data": {
      "text/plain": [
       "array([4.6723, 4.8108, 4.7462, 4.6521, 4.5592, 4.5773, 4.7382, 4.5592,\n",
       "       4.6521, 4.7614, 4.6339, 4.6072, 4.5999, 4.591 , 4.6126, 4.6126,\n",
       "       4.6042, 4.5858, 4.606 , 4.606 , 4.8439, 4.6661, 4.6661, 4.7404,\n",
       "       4.6723, 4.5957, 4.8108, 4.5999, 4.7679, 4.725 , 4.5773, 4.7679,\n",
       "       4.8461, 4.6348, 4.5751, 4.6258, 4.6042, 4.606 , 4.6348, 4.5787,\n",
       "       4.8112, 4.6042, 4.6555, 4.6875, 4.6164, 4.6088, 4.6875, 4.7679,\n",
       "       4.7382])"
      ]
     },
     "execution_count": 355,
     "metadata": {},
     "output_type": "execute_result"
    }
   ],
   "source": [
    "# the gain factor (as before)\n",
    "gf = stt.hmean(bets, axis=1)/3 #this is the harmonic mean, need to devide by 3\n",
    "gf2 = 3/gf # this is as before, but better to have < 0\n",
    "gf2.round(4) # set precision"
   ]
  },
  {
   "cell_type": "code",
   "execution_count": 112,
   "metadata": {},
   "outputs": [
    {
     "data": {
      "text/html": [
       "<div>\n",
       "<style scoped>\n",
       "    .dataframe tbody tr th:only-of-type {\n",
       "        vertical-align: middle;\n",
       "    }\n",
       "\n",
       "    .dataframe tbody tr th {\n",
       "        vertical-align: top;\n",
       "    }\n",
       "\n",
       "    .dataframe thead th {\n",
       "        text-align: right;\n",
       "    }\n",
       "</style>\n",
       "<table border=\"1\" class=\"dataframe\">\n",
       "  <thead>\n",
       "    <tr style=\"text-align: right;\">\n",
       "      <th></th>\n",
       "      <th>1</th>\n",
       "      <th>X</th>\n",
       "      <th>2</th>\n",
       "      <th>GainFactor</th>\n",
       "    </tr>\n",
       "    <tr>\n",
       "      <th>Company</th>\n",
       "      <th></th>\n",
       "      <th></th>\n",
       "      <th></th>\n",
       "      <th></th>\n",
       "    </tr>\n",
       "  </thead>\n",
       "  <tbody>\n",
       "    <tr>\n",
       "      <th>10Bet</th>\n",
       "      <td>1.49</td>\n",
       "      <td>4.20</td>\n",
       "      <td>7.75</td>\n",
       "      <td>0.9631</td>\n",
       "    </tr>\n",
       "    <tr>\n",
       "      <th>12BET</th>\n",
       "      <td>1.50</td>\n",
       "      <td>3.95</td>\n",
       "      <td>6.70</td>\n",
       "      <td>0.9354</td>\n",
       "    </tr>\n",
       "    <tr>\n",
       "      <th>188BET</th>\n",
       "      <td>1.50</td>\n",
       "      <td>4.15</td>\n",
       "      <td>6.80</td>\n",
       "      <td>0.9481</td>\n",
       "    </tr>\n",
       "    <tr>\n",
       "      <th>18bet</th>\n",
       "      <td>1.50</td>\n",
       "      <td>4.20</td>\n",
       "      <td>7.75</td>\n",
       "      <td>0.9673</td>\n",
       "    </tr>\n",
       "    <tr>\n",
       "      <th>1xBet</th>\n",
       "      <td>1.55</td>\n",
       "      <td>4.20</td>\n",
       "      <td>7.70</td>\n",
       "      <td>0.9870</td>\n",
       "    </tr>\n",
       "  </tbody>\n",
       "</table>\n",
       "</div>"
      ],
      "text/plain": [
       "            1     X     2  GainFactor\n",
       "Company                              \n",
       "10Bet    1.49  4.20  7.75      0.9631\n",
       "12BET    1.50  3.95  6.70      0.9354\n",
       "188BET   1.50  4.15  6.80      0.9481\n",
       "18bet    1.50  4.20  7.75      0.9673\n",
       "1xBet    1.55  4.20  7.70      0.9870"
      ]
     },
     "execution_count": 112,
     "metadata": {},
     "output_type": "execute_result"
    }
   ],
   "source": [
    "bets[\"GainFactor\"] = gf.round(4) #add to DF\n",
    "bets.head()"
   ]
  },
  {
   "cell_type": "code",
   "execution_count": 117,
   "metadata": {},
   "outputs": [
    {
     "data": {
      "text/html": [
       "<div>\n",
       "<style scoped>\n",
       "    .dataframe tbody tr th:only-of-type {\n",
       "        vertical-align: middle;\n",
       "    }\n",
       "\n",
       "    .dataframe tbody tr th {\n",
       "        vertical-align: top;\n",
       "    }\n",
       "\n",
       "    .dataframe thead th {\n",
       "        text-align: right;\n",
       "    }\n",
       "</style>\n",
       "<table border=\"1\" class=\"dataframe\">\n",
       "  <thead>\n",
       "    <tr style=\"text-align: right;\">\n",
       "      <th></th>\n",
       "      <th>1</th>\n",
       "      <th>X</th>\n",
       "      <th>2</th>\n",
       "      <th>GainFactor</th>\n",
       "    </tr>\n",
       "    <tr>\n",
       "      <th>Company</th>\n",
       "      <th></th>\n",
       "      <th></th>\n",
       "      <th></th>\n",
       "      <th></th>\n",
       "    </tr>\n",
       "  </thead>\n",
       "  <tbody>\n",
       "    <tr>\n",
       "      <th>1xBet</th>\n",
       "      <td>1.55</td>\n",
       "      <td>4.20</td>\n",
       "      <td>7.70</td>\n",
       "      <td>0.9870</td>\n",
       "    </tr>\n",
       "    <tr>\n",
       "      <th>Asianodds</th>\n",
       "      <td>1.52</td>\n",
       "      <td>4.32</td>\n",
       "      <td>8.08</td>\n",
       "      <td>0.9870</td>\n",
       "    </tr>\n",
       "    <tr>\n",
       "      <th>Marathonbet</th>\n",
       "      <td>1.53</td>\n",
       "      <td>4.20</td>\n",
       "      <td>8.00</td>\n",
       "      <td>0.9836</td>\n",
       "    </tr>\n",
       "    <tr>\n",
       "      <th>Island Casino</th>\n",
       "      <td>1.53</td>\n",
       "      <td>4.20</td>\n",
       "      <td>7.97</td>\n",
       "      <td>0.9831</td>\n",
       "    </tr>\n",
       "    <tr>\n",
       "      <th>5Dimes</th>\n",
       "      <td>1.53</td>\n",
       "      <td>4.20</td>\n",
       "      <td>7.97</td>\n",
       "      <td>0.9831</td>\n",
       "    </tr>\n",
       "  </tbody>\n",
       "</table>\n",
       "</div>"
      ],
      "text/plain": [
       "                  1     X     2  GainFactor\n",
       "Company                                    \n",
       "1xBet          1.55  4.20  7.70      0.9870\n",
       "Asianodds      1.52  4.32  8.08      0.9870\n",
       "Marathonbet    1.53  4.20  8.00      0.9836\n",
       "Island Casino  1.53  4.20  7.97      0.9831\n",
       "5Dimes         1.53  4.20  7.97      0.9831"
      ]
     },
     "execution_count": 117,
     "metadata": {},
     "output_type": "execute_result"
    }
   ],
   "source": [
    "#sort. Best company?\n",
    "bets.sort_values(\"GainFactor\",ascending=False).head()"
   ]
  },
  {
   "cell_type": "code",
   "execution_count": 134,
   "metadata": {},
   "outputs": [],
   "source": [
    "def f(x):\n",
    "    return pd.Series([x.min(), x.max(), -x.min() + x.max()], index=['min','max','Delta'])"
   ]
  },
  {
   "cell_type": "code",
   "execution_count": 148,
   "metadata": {},
   "outputs": [
    {
     "data": {
      "text/html": [
       "<div>\n",
       "<style scoped>\n",
       "    .dataframe tbody tr th:only-of-type {\n",
       "        vertical-align: middle;\n",
       "    }\n",
       "\n",
       "    .dataframe tbody tr th {\n",
       "        vertical-align: top;\n",
       "    }\n",
       "\n",
       "    .dataframe thead th {\n",
       "        text-align: right;\n",
       "    }\n",
       "</style>\n",
       "<table border=\"1\" class=\"dataframe\">\n",
       "  <thead>\n",
       "    <tr style=\"text-align: right;\">\n",
       "      <th></th>\n",
       "      <th>1</th>\n",
       "      <th>X</th>\n",
       "      <th>2</th>\n",
       "      <th>GainFactor</th>\n",
       "    </tr>\n",
       "  </thead>\n",
       "  <tbody>\n",
       "    <tr>\n",
       "      <th>count</th>\n",
       "      <td>49.0000</td>\n",
       "      <td>49.0000</td>\n",
       "      <td>49.0000</td>\n",
       "      <td>49.0000</td>\n",
       "    </tr>\n",
       "    <tr>\n",
       "      <th>mean</th>\n",
       "      <td>1.5127</td>\n",
       "      <td>4.1400</td>\n",
       "      <td>7.5306</td>\n",
       "      <td>0.9653</td>\n",
       "    </tr>\n",
       "    <tr>\n",
       "      <th>std</th>\n",
       "      <td>0.0193</td>\n",
       "      <td>0.1228</td>\n",
       "      <td>0.4828</td>\n",
       "      <td>0.0166</td>\n",
       "    </tr>\n",
       "    <tr>\n",
       "      <th>min</th>\n",
       "      <td>1.4500</td>\n",
       "      <td>3.8500</td>\n",
       "      <td>6.5000</td>\n",
       "      <td>0.9286</td>\n",
       "    </tr>\n",
       "    <tr>\n",
       "      <th>25%</th>\n",
       "      <td>1.5000</td>\n",
       "      <td>4.0400</td>\n",
       "      <td>7.0000</td>\n",
       "      <td>0.9497</td>\n",
       "    </tr>\n",
       "    <tr>\n",
       "      <th>50%</th>\n",
       "      <td>1.5100</td>\n",
       "      <td>4.2000</td>\n",
       "      <td>7.7000</td>\n",
       "      <td>0.9709</td>\n",
       "    </tr>\n",
       "    <tr>\n",
       "      <th>75%</th>\n",
       "      <td>1.5300</td>\n",
       "      <td>4.2000</td>\n",
       "      <td>7.9700</td>\n",
       "      <td>0.9774</td>\n",
       "    </tr>\n",
       "    <tr>\n",
       "      <th>max</th>\n",
       "      <td>1.5600</td>\n",
       "      <td>4.4000</td>\n",
       "      <td>8.2500</td>\n",
       "      <td>0.9870</td>\n",
       "    </tr>\n",
       "  </tbody>\n",
       "</table>\n",
       "</div>"
      ],
      "text/plain": [
       "             1        X        2  GainFactor\n",
       "count  49.0000  49.0000  49.0000     49.0000\n",
       "mean    1.5127   4.1400   7.5306      0.9653\n",
       "std     0.0193   0.1228   0.4828      0.0166\n",
       "min     1.4500   3.8500   6.5000      0.9286\n",
       "25%     1.5000   4.0400   7.0000      0.9497\n",
       "50%     1.5100   4.2000   7.7000      0.9709\n",
       "75%     1.5300   4.2000   7.9700      0.9774\n",
       "max     1.5600   4.4000   8.2500      0.9870"
      ]
     },
     "execution_count": 148,
     "metadata": {},
     "output_type": "execute_result"
    }
   ],
   "source": [
    "#bets[\"GainFactor\"].apply(f)\n",
    "bets_d = bets.describe().round(4)\n",
    "bets_d"
   ]
  },
  {
   "cell_type": "code",
   "execution_count": 131,
   "metadata": {},
   "outputs": [
    {
     "data": {
      "text/plain": [
       "1.45"
      ]
     },
     "execution_count": 131,
     "metadata": {},
     "output_type": "execute_result"
    }
   ],
   "source": [
    "bets.describe().round(4).loc['min','1']"
   ]
  },
  {
   "cell_type": "code",
   "execution_count": 139,
   "metadata": {},
   "outputs": [
    {
     "data": {
      "text/plain": [
       "1            -0.1100\n",
       "X            -0.5500\n",
       "2            -1.7500\n",
       "GainFactor   -0.0584\n",
       "dtype: float64"
      ]
     },
     "execution_count": 139,
     "metadata": {},
     "output_type": "execute_result"
    }
   ],
   "source": [
    "# how to do operation betweens raws\n",
    "bets_d.loc['min']-bets_d.loc['max']"
   ]
  },
  {
   "cell_type": "code",
   "execution_count": 166,
   "metadata": {},
   "outputs": [
    {
     "data": {
      "text/html": [
       "<div>\n",
       "<style scoped>\n",
       "    .dataframe tbody tr th:only-of-type {\n",
       "        vertical-align: middle;\n",
       "    }\n",
       "\n",
       "    .dataframe tbody tr th {\n",
       "        vertical-align: top;\n",
       "    }\n",
       "\n",
       "    .dataframe thead th {\n",
       "        text-align: right;\n",
       "    }\n",
       "</style>\n",
       "<table border=\"1\" class=\"dataframe\">\n",
       "  <thead>\n",
       "    <tr style=\"text-align: right;\">\n",
       "      <th></th>\n",
       "      <th>1</th>\n",
       "      <th>X</th>\n",
       "      <th>2</th>\n",
       "      <th>GainFactor</th>\n",
       "    </tr>\n",
       "  </thead>\n",
       "  <tbody>\n",
       "    <tr>\n",
       "      <th>mean</th>\n",
       "      <td>1.512700</td>\n",
       "      <td>4.140000</td>\n",
       "      <td>7.53060</td>\n",
       "      <td>0.965300</td>\n",
       "    </tr>\n",
       "    <tr>\n",
       "      <th>std</th>\n",
       "      <td>0.019300</td>\n",
       "      <td>0.122800</td>\n",
       "      <td>0.48280</td>\n",
       "      <td>0.016600</td>\n",
       "    </tr>\n",
       "    <tr>\n",
       "      <th>min</th>\n",
       "      <td>1.450000</td>\n",
       "      <td>3.850000</td>\n",
       "      <td>6.50000</td>\n",
       "      <td>0.928600</td>\n",
       "    </tr>\n",
       "    <tr>\n",
       "      <th>max</th>\n",
       "      <td>1.560000</td>\n",
       "      <td>4.400000</td>\n",
       "      <td>8.25000</td>\n",
       "      <td>0.987000</td>\n",
       "    </tr>\n",
       "    <tr>\n",
       "      <th>DeltaMInMax</th>\n",
       "      <td>0.110000</td>\n",
       "      <td>0.550000</td>\n",
       "      <td>1.75000</td>\n",
       "      <td>0.058400</td>\n",
       "    </tr>\n",
       "    <tr>\n",
       "      <th>Delta%</th>\n",
       "      <td>7.271766</td>\n",
       "      <td>13.285024</td>\n",
       "      <td>23.23852</td>\n",
       "      <td>6.049933</td>\n",
       "    </tr>\n",
       "  </tbody>\n",
       "</table>\n",
       "</div>"
      ],
      "text/plain": [
       "                    1          X         2  GainFactor\n",
       "mean         1.512700   4.140000   7.53060    0.965300\n",
       "std          0.019300   0.122800   0.48280    0.016600\n",
       "min          1.450000   3.850000   6.50000    0.928600\n",
       "max          1.560000   4.400000   8.25000    0.987000\n",
       "DeltaMInMax  0.110000   0.550000   1.75000    0.058400\n",
       "Delta%       7.271766  13.285024  23.23852    6.049933"
      ]
     },
     "execution_count": 166,
     "metadata": {},
     "output_type": "execute_result"
    }
   ],
   "source": [
    "# add another line with the Delta\n",
    "bets_d.loc[\"DeltaMInMax\"] = bets_d.loc['max']-bets_d.loc['min']\n",
    "bets_d.loc[\"Delta%\"] = (bets_d.loc['max']-bets_d.loc['min'])/bets_d.loc['mean']*100\n",
    "\n",
    "bets_d.iloc[[1,2,3,-3,-2,-1]]"
   ]
  },
  {
   "cell_type": "code",
   "execution_count": 161,
   "metadata": {},
   "outputs": [
    {
     "data": {
      "text/html": [
       "<div>\n",
       "<style scoped>\n",
       "    .dataframe tbody tr th:only-of-type {\n",
       "        vertical-align: middle;\n",
       "    }\n",
       "\n",
       "    .dataframe tbody tr th {\n",
       "        vertical-align: top;\n",
       "    }\n",
       "\n",
       "    .dataframe thead th {\n",
       "        text-align: right;\n",
       "    }\n",
       "</style>\n",
       "<table border=\"1\" class=\"dataframe\">\n",
       "  <thead>\n",
       "    <tr style=\"text-align: right;\">\n",
       "      <th></th>\n",
       "      <th>1</th>\n",
       "      <th>X</th>\n",
       "      <th>2</th>\n",
       "      <th>GainFactor</th>\n",
       "    </tr>\n",
       "    <tr>\n",
       "      <th>Company</th>\n",
       "      <th></th>\n",
       "      <th></th>\n",
       "      <th></th>\n",
       "      <th></th>\n",
       "    </tr>\n",
       "  </thead>\n",
       "  <tbody>\n",
       "    <tr>\n",
       "      <th>1xBet</th>\n",
       "      <td>1.55</td>\n",
       "      <td>4.20</td>\n",
       "      <td>7.70</td>\n",
       "      <td>0.9870</td>\n",
       "    </tr>\n",
       "    <tr>\n",
       "      <th>Asianodds</th>\n",
       "      <td>1.52</td>\n",
       "      <td>4.32</td>\n",
       "      <td>8.08</td>\n",
       "      <td>0.9870</td>\n",
       "    </tr>\n",
       "    <tr>\n",
       "      <th>Marathonbet</th>\n",
       "      <td>1.53</td>\n",
       "      <td>4.20</td>\n",
       "      <td>8.00</td>\n",
       "      <td>0.9836</td>\n",
       "    </tr>\n",
       "    <tr>\n",
       "      <th>SBOBET</th>\n",
       "      <td>1.52</td>\n",
       "      <td>3.85</td>\n",
       "      <td>6.60</td>\n",
       "      <td>0.9353</td>\n",
       "    </tr>\n",
       "    <tr>\n",
       "      <th>BetVictor</th>\n",
       "      <td>1.45</td>\n",
       "      <td>4.10</td>\n",
       "      <td>7.00</td>\n",
       "      <td>0.9290</td>\n",
       "    </tr>\n",
       "    <tr>\n",
       "      <th>Ladbrokes</th>\n",
       "      <td>1.50</td>\n",
       "      <td>3.90</td>\n",
       "      <td>6.50</td>\n",
       "      <td>0.9286</td>\n",
       "    </tr>\n",
       "  </tbody>\n",
       "</table>\n",
       "</div>"
      ],
      "text/plain": [
       "                1     X     2  GainFactor\n",
       "Company                                  \n",
       "1xBet        1.55  4.20  7.70      0.9870\n",
       "Asianodds    1.52  4.32  8.08      0.9870\n",
       "Marathonbet  1.53  4.20  8.00      0.9836\n",
       "SBOBET       1.52  3.85  6.60      0.9353\n",
       "BetVictor    1.45  4.10  7.00      0.9290\n",
       "Ladbrokes    1.50  3.90  6.50      0.9286"
      ]
     },
     "execution_count": 161,
     "metadata": {},
     "output_type": "execute_result"
    }
   ],
   "source": [
    "# which is the best? and worse first 3, last 3\n",
    "bets.sort_values(\"GainFactor\",ascending=False).iloc[[0,1,2,-3,-2,-1]]"
   ]
  },
  {
   "cell_type": "markdown",
   "metadata": {},
   "source": [
    "Let's make now all the combination"
   ]
  },
  {
   "cell_type": "code",
   "execution_count": 240,
   "metadata": {},
   "outputs": [],
   "source": [
    "N = bets[\"1\"].size"
   ]
  },
  {
   "cell_type": "code",
   "execution_count": 254,
   "metadata": {},
   "outputs": [],
   "source": [
    "#array with N integer\n",
    "x = np.arange(N)"
   ]
  },
  {
   "cell_type": "code",
   "execution_count": 261,
   "metadata": {},
   "outputs": [
    {
     "data": {
      "text/plain": [
       "array([[ 0,  0,  0],\n",
       "       [ 0,  0,  1],\n",
       "       [ 0,  0,  2],\n",
       "       ...,\n",
       "       [48, 48, 46],\n",
       "       [48, 48, 47],\n",
       "       [48, 48, 48]])"
      ]
     },
     "execution_count": 261,
     "metadata": {},
     "output_type": "execute_result"
    }
   ],
   "source": [
    "# build all triplets of elements in x, \n",
    "# there are N^3 triplets, and therefore we need a (N^3,3) array\n",
    "# I build this column by column (3 columns)\n",
    "a1 = np.repeat(x,N*N).reshape(N*N*N,1) \n",
    "a2 = np.tile(np.repeat(x,N),(N,1)).reshape(N*N*N,1)\n",
    "a3 = np.vstack([x]*N*N).reshape(N*N*N,1)\n",
    "#put all togheter\n",
    "all_comb = np.hstack((a1,a2,a3))\n",
    "all_comb"
   ]
  },
  {
   "cell_type": "code",
   "execution_count": 274,
   "metadata": {},
   "outputs": [
    {
     "data": {
      "text/html": [
       "<div>\n",
       "<style scoped>\n",
       "    .dataframe tbody tr th:only-of-type {\n",
       "        vertical-align: middle;\n",
       "    }\n",
       "\n",
       "    .dataframe tbody tr th {\n",
       "        vertical-align: top;\n",
       "    }\n",
       "\n",
       "    .dataframe thead th {\n",
       "        text-align: right;\n",
       "    }\n",
       "</style>\n",
       "<table border=\"1\" class=\"dataframe\">\n",
       "  <thead>\n",
       "    <tr style=\"text-align: right;\">\n",
       "      <th></th>\n",
       "      <th>Company</th>\n",
       "      <th>1</th>\n",
       "      <th>X</th>\n",
       "      <th>2</th>\n",
       "    </tr>\n",
       "  </thead>\n",
       "  <tbody>\n",
       "    <tr>\n",
       "      <th>0</th>\n",
       "      <td>10Bet</td>\n",
       "      <td>1.49</td>\n",
       "      <td>4.20</td>\n",
       "      <td>7.75</td>\n",
       "    </tr>\n",
       "    <tr>\n",
       "      <th>1</th>\n",
       "      <td>12BET</td>\n",
       "      <td>1.50</td>\n",
       "      <td>3.95</td>\n",
       "      <td>6.70</td>\n",
       "    </tr>\n",
       "    <tr>\n",
       "      <th>2</th>\n",
       "      <td>188BET</td>\n",
       "      <td>1.50</td>\n",
       "      <td>4.15</td>\n",
       "      <td>6.80</td>\n",
       "    </tr>\n",
       "    <tr>\n",
       "      <th>3</th>\n",
       "      <td>18bet</td>\n",
       "      <td>1.50</td>\n",
       "      <td>4.20</td>\n",
       "      <td>7.75</td>\n",
       "    </tr>\n",
       "    <tr>\n",
       "      <th>4</th>\n",
       "      <td>1xBet</td>\n",
       "      <td>1.55</td>\n",
       "      <td>4.20</td>\n",
       "      <td>7.70</td>\n",
       "    </tr>\n",
       "  </tbody>\n",
       "</table>\n",
       "</div>"
      ],
      "text/plain": [
       "  Company     1     X     2\n",
       "0   10Bet  1.49  4.20  7.75\n",
       "1   12BET  1.50  3.95  6.70\n",
       "2  188BET  1.50  4.15  6.80\n",
       "3   18bet  1.50  4.20  7.75\n",
       "4   1xBet  1.55  4.20  7.70"
      ]
     },
     "execution_count": 274,
     "metadata": {},
     "output_type": "execute_result"
    }
   ],
   "source": [
    "bets2.head()"
   ]
  },
  {
   "cell_type": "code",
   "execution_count": 339,
   "metadata": {},
   "outputs": [
    {
     "data": {
      "text/plain": [
       "117649"
      ]
     },
     "execution_count": 339,
     "metadata": {},
     "output_type": "execute_result"
    }
   ],
   "source": [
    "dim = all_comb.shape[0]\n",
    "dim"
   ]
  },
  {
   "cell_type": "code",
   "execution_count": 341,
   "metadata": {},
   "outputs": [],
   "source": [
    "pp = np.array([ bets2.iloc[all_comb[n,i],i+1] for n in range(dim) for i in range(3)]).reshape(dim,3)\n",
    "qq = np.array([ bets2.iloc[all_comb[n,i],0] for n in range(dim) for i in range(3)]).reshape(dim,3)"
   ]
  },
  {
   "cell_type": "code",
   "execution_count": 342,
   "metadata": {},
   "outputs": [],
   "source": [
    "#pd.DataFrame((pp,qq), columns=[\"1\",\"X\",\"2\",\"1\",\"X\",\"2\"])\n",
    "df_a = pd.DataFrame(pp, columns=[\"1\",\"X\",\"2\"])\n",
    "df_b = pd.DataFrame(qq, columns=[\"Comp_1\",\"Comp_X\",\"Comp_2\"])"
   ]
  },
  {
   "cell_type": "code",
   "execution_count": 349,
   "metadata": {},
   "outputs": [
    {
     "data": {
      "text/html": [
       "<div>\n",
       "<style scoped>\n",
       "    .dataframe tbody tr th:only-of-type {\n",
       "        vertical-align: middle;\n",
       "    }\n",
       "\n",
       "    .dataframe tbody tr th {\n",
       "        vertical-align: top;\n",
       "    }\n",
       "\n",
       "    .dataframe thead th {\n",
       "        text-align: right;\n",
       "    }\n",
       "</style>\n",
       "<table border=\"1\" class=\"dataframe\">\n",
       "  <thead>\n",
       "    <tr style=\"text-align: right;\">\n",
       "      <th></th>\n",
       "      <th>Comp_1</th>\n",
       "      <th>Comp_X</th>\n",
       "      <th>Comp_2</th>\n",
       "      <th>1</th>\n",
       "      <th>X</th>\n",
       "      <th>2</th>\n",
       "    </tr>\n",
       "  </thead>\n",
       "  <tbody>\n",
       "    <tr>\n",
       "      <th>0</th>\n",
       "      <td>10Bet</td>\n",
       "      <td>10Bet</td>\n",
       "      <td>10Bet</td>\n",
       "      <td>1.49</td>\n",
       "      <td>4.2</td>\n",
       "      <td>7.75</td>\n",
       "    </tr>\n",
       "    <tr>\n",
       "      <th>1</th>\n",
       "      <td>10Bet</td>\n",
       "      <td>10Bet</td>\n",
       "      <td>12BET</td>\n",
       "      <td>1.49</td>\n",
       "      <td>4.2</td>\n",
       "      <td>6.70</td>\n",
       "    </tr>\n",
       "    <tr>\n",
       "      <th>2</th>\n",
       "      <td>10Bet</td>\n",
       "      <td>10Bet</td>\n",
       "      <td>188BET</td>\n",
       "      <td>1.49</td>\n",
       "      <td>4.2</td>\n",
       "      <td>6.80</td>\n",
       "    </tr>\n",
       "    <tr>\n",
       "      <th>3</th>\n",
       "      <td>10Bet</td>\n",
       "      <td>10Bet</td>\n",
       "      <td>18bet</td>\n",
       "      <td>1.49</td>\n",
       "      <td>4.2</td>\n",
       "      <td>7.75</td>\n",
       "    </tr>\n",
       "    <tr>\n",
       "      <th>4</th>\n",
       "      <td>10Bet</td>\n",
       "      <td>10Bet</td>\n",
       "      <td>1xBet</td>\n",
       "      <td>1.49</td>\n",
       "      <td>4.2</td>\n",
       "      <td>7.70</td>\n",
       "    </tr>\n",
       "  </tbody>\n",
       "</table>\n",
       "</div>"
      ],
      "text/plain": [
       "  Comp_1 Comp_X  Comp_2     1    X     2\n",
       "0  10Bet  10Bet   10Bet  1.49  4.2  7.75\n",
       "1  10Bet  10Bet   12BET  1.49  4.2  6.70\n",
       "2  10Bet  10Bet  188BET  1.49  4.2  6.80\n",
       "3  10Bet  10Bet   18bet  1.49  4.2  7.75\n",
       "4  10Bet  10Bet   1xBet  1.49  4.2  7.70"
      ]
     },
     "execution_count": 349,
     "metadata": {},
     "output_type": "execute_result"
    }
   ],
   "source": [
    "bets_comb = pd.concat([df_b,df_a], axis=1)\n",
    "bets_comb.head()"
   ]
  },
  {
   "cell_type": "code",
   "execution_count": 358,
   "metadata": {},
   "outputs": [
    {
     "data": {
      "text/html": [
       "<div>\n",
       "<style scoped>\n",
       "    .dataframe tbody tr th:only-of-type {\n",
       "        vertical-align: middle;\n",
       "    }\n",
       "\n",
       "    .dataframe tbody tr th {\n",
       "        vertical-align: top;\n",
       "    }\n",
       "\n",
       "    .dataframe thead th {\n",
       "        text-align: right;\n",
       "    }\n",
       "</style>\n",
       "<table border=\"1\" class=\"dataframe\">\n",
       "  <thead>\n",
       "    <tr style=\"text-align: right;\">\n",
       "      <th></th>\n",
       "      <th>Comp_1</th>\n",
       "      <th>Comp_X</th>\n",
       "      <th>Comp_2</th>\n",
       "      <th>1</th>\n",
       "      <th>X</th>\n",
       "      <th>2</th>\n",
       "      <th>GainFactor</th>\n",
       "    </tr>\n",
       "  </thead>\n",
       "  <tbody>\n",
       "    <tr>\n",
       "      <th>0</th>\n",
       "      <td>10Bet</td>\n",
       "      <td>10Bet</td>\n",
       "      <td>10Bet</td>\n",
       "      <td>1.49</td>\n",
       "      <td>4.2</td>\n",
       "      <td>7.75</td>\n",
       "      <td>0.9631</td>\n",
       "    </tr>\n",
       "    <tr>\n",
       "      <th>1</th>\n",
       "      <td>10Bet</td>\n",
       "      <td>10Bet</td>\n",
       "      <td>12BET</td>\n",
       "      <td>1.49</td>\n",
       "      <td>4.2</td>\n",
       "      <td>6.70</td>\n",
       "      <td>0.9447</td>\n",
       "    </tr>\n",
       "    <tr>\n",
       "      <th>2</th>\n",
       "      <td>10Bet</td>\n",
       "      <td>10Bet</td>\n",
       "      <td>188BET</td>\n",
       "      <td>1.49</td>\n",
       "      <td>4.2</td>\n",
       "      <td>6.80</td>\n",
       "      <td>0.9467</td>\n",
       "    </tr>\n",
       "    <tr>\n",
       "      <th>3</th>\n",
       "      <td>10Bet</td>\n",
       "      <td>10Bet</td>\n",
       "      <td>18bet</td>\n",
       "      <td>1.49</td>\n",
       "      <td>4.2</td>\n",
       "      <td>7.75</td>\n",
       "      <td>0.9631</td>\n",
       "    </tr>\n",
       "    <tr>\n",
       "      <th>4</th>\n",
       "      <td>10Bet</td>\n",
       "      <td>10Bet</td>\n",
       "      <td>1xBet</td>\n",
       "      <td>1.49</td>\n",
       "      <td>4.2</td>\n",
       "      <td>7.70</td>\n",
       "      <td>0.9624</td>\n",
       "    </tr>\n",
       "  </tbody>\n",
       "</table>\n",
       "</div>"
      ],
      "text/plain": [
       "  Comp_1 Comp_X  Comp_2     1    X     2  GainFactor\n",
       "0  10Bet  10Bet   10Bet  1.49  4.2  7.75      0.9631\n",
       "1  10Bet  10Bet   12BET  1.49  4.2  6.70      0.9447\n",
       "2  10Bet  10Bet  188BET  1.49  4.2  6.80      0.9467\n",
       "3  10Bet  10Bet   18bet  1.49  4.2  7.75      0.9631\n",
       "4  10Bet  10Bet   1xBet  1.49  4.2  7.70      0.9624"
      ]
     },
     "execution_count": 358,
     "metadata": {},
     "output_type": "execute_result"
    }
   ],
   "source": [
    "gf_comb = stt.hmean(pp, axis=1)/3 #this is the harmonic mean, need to devide by 3\n",
    "bets_comb[\"GainFactor\"] = gf_comb.round(4) #add to DF\n",
    "bets_comb.head()"
   ]
  },
  {
   "cell_type": "code",
   "execution_count": 359,
   "metadata": {},
   "outputs": [
    {
     "data": {
      "text/html": [
       "<div>\n",
       "<style scoped>\n",
       "    .dataframe tbody tr th:only-of-type {\n",
       "        vertical-align: middle;\n",
       "    }\n",
       "\n",
       "    .dataframe tbody tr th {\n",
       "        vertical-align: top;\n",
       "    }\n",
       "\n",
       "    .dataframe thead th {\n",
       "        text-align: right;\n",
       "    }\n",
       "</style>\n",
       "<table border=\"1\" class=\"dataframe\">\n",
       "  <thead>\n",
       "    <tr style=\"text-align: right;\">\n",
       "      <th></th>\n",
       "      <th>1</th>\n",
       "      <th>X</th>\n",
       "      <th>2</th>\n",
       "      <th>GainFactor</th>\n",
       "    </tr>\n",
       "  </thead>\n",
       "  <tbody>\n",
       "    <tr>\n",
       "      <th>count</th>\n",
       "      <td>117649.000000</td>\n",
       "      <td>117649.000000</td>\n",
       "      <td>117649.000000</td>\n",
       "      <td>117649.000000</td>\n",
       "    </tr>\n",
       "    <tr>\n",
       "      <th>mean</th>\n",
       "      <td>1.512653</td>\n",
       "      <td>4.140000</td>\n",
       "      <td>7.530612</td>\n",
       "      <td>0.965149</td>\n",
       "    </tr>\n",
       "    <tr>\n",
       "      <th>std</th>\n",
       "      <td>0.019142</td>\n",
       "      <td>0.121505</td>\n",
       "      <td>0.477852</td>\n",
       "      <td>0.013104</td>\n",
       "    </tr>\n",
       "    <tr>\n",
       "      <th>min</th>\n",
       "      <td>1.450000</td>\n",
       "      <td>3.850000</td>\n",
       "      <td>6.500000</td>\n",
       "      <td>0.906400</td>\n",
       "    </tr>\n",
       "    <tr>\n",
       "      <th>25%</th>\n",
       "      <td>1.500000</td>\n",
       "      <td>4.040000</td>\n",
       "      <td>7.000000</td>\n",
       "      <td>0.956300</td>\n",
       "    </tr>\n",
       "    <tr>\n",
       "      <th>50%</th>\n",
       "      <td>1.510000</td>\n",
       "      <td>4.200000</td>\n",
       "      <td>7.700000</td>\n",
       "      <td>0.965900</td>\n",
       "    </tr>\n",
       "    <tr>\n",
       "      <th>75%</th>\n",
       "      <td>1.530000</td>\n",
       "      <td>4.200000</td>\n",
       "      <td>7.970000</td>\n",
       "      <td>0.974600</td>\n",
       "    </tr>\n",
       "    <tr>\n",
       "      <th>max</th>\n",
       "      <td>1.560000</td>\n",
       "      <td>4.400000</td>\n",
       "      <td>8.250000</td>\n",
       "      <td>1.010600</td>\n",
       "    </tr>\n",
       "  </tbody>\n",
       "</table>\n",
       "</div>"
      ],
      "text/plain": [
       "                   1              X              2     GainFactor\n",
       "count  117649.000000  117649.000000  117649.000000  117649.000000\n",
       "mean        1.512653       4.140000       7.530612       0.965149\n",
       "std         0.019142       0.121505       0.477852       0.013104\n",
       "min         1.450000       3.850000       6.500000       0.906400\n",
       "25%         1.500000       4.040000       7.000000       0.956300\n",
       "50%         1.510000       4.200000       7.700000       0.965900\n",
       "75%         1.530000       4.200000       7.970000       0.974600\n",
       "max         1.560000       4.400000       8.250000       1.010600"
      ]
     },
     "execution_count": 359,
     "metadata": {},
     "output_type": "execute_result"
    }
   ],
   "source": [
    "bets_comb.describe()"
   ]
  },
  {
   "cell_type": "code",
   "execution_count": 360,
   "metadata": {},
   "outputs": [
    {
     "data": {
      "text/html": [
       "<div>\n",
       "<style scoped>\n",
       "    .dataframe tbody tr th:only-of-type {\n",
       "        vertical-align: middle;\n",
       "    }\n",
       "\n",
       "    .dataframe tbody tr th {\n",
       "        vertical-align: top;\n",
       "    }\n",
       "\n",
       "    .dataframe thead th {\n",
       "        text-align: right;\n",
       "    }\n",
       "</style>\n",
       "<table border=\"1\" class=\"dataframe\">\n",
       "  <thead>\n",
       "    <tr style=\"text-align: right;\">\n",
       "      <th></th>\n",
       "      <th>Comp_1</th>\n",
       "      <th>Comp_X</th>\n",
       "      <th>Comp_2</th>\n",
       "      <th>1</th>\n",
       "      <th>X</th>\n",
       "      <th>2</th>\n",
       "      <th>GainFactor</th>\n",
       "    </tr>\n",
       "  </thead>\n",
       "  <tbody>\n",
       "    <tr>\n",
       "      <th>60605</th>\n",
       "      <td>Coolbet</td>\n",
       "      <td>BetCity</td>\n",
       "      <td>ScandiBet</td>\n",
       "      <td>1.56</td>\n",
       "      <td>4.4</td>\n",
       "      <td>8.25</td>\n",
       "      <td>1.0106</td>\n",
       "    </tr>\n",
       "    <tr>\n",
       "      <th>60600</th>\n",
       "      <td>Coolbet</td>\n",
       "      <td>BetCity</td>\n",
       "      <td>NightRush</td>\n",
       "      <td>1.56</td>\n",
       "      <td>4.4</td>\n",
       "      <td>8.25</td>\n",
       "      <td>1.0106</td>\n",
       "    </tr>\n",
       "    <tr>\n",
       "      <th>60580</th>\n",
       "      <td>Coolbet</td>\n",
       "      <td>BetCity</td>\n",
       "      <td>Bethard</td>\n",
       "      <td>1.56</td>\n",
       "      <td>4.4</td>\n",
       "      <td>8.25</td>\n",
       "      <td>1.0106</td>\n",
       "    </tr>\n",
       "    <tr>\n",
       "      <th>60571</th>\n",
       "      <td>Coolbet</td>\n",
       "      <td>BetCity</td>\n",
       "      <td>Asianodds</td>\n",
       "      <td>1.56</td>\n",
       "      <td>4.4</td>\n",
       "      <td>8.08</td>\n",
       "      <td>1.0080</td>\n",
       "    </tr>\n",
       "    <tr>\n",
       "      <th>60603</th>\n",
       "      <td>Coolbet</td>\n",
       "      <td>BetCity</td>\n",
       "      <td>Pinnacle</td>\n",
       "      <td>1.56</td>\n",
       "      <td>4.4</td>\n",
       "      <td>8.08</td>\n",
       "      <td>1.0080</td>\n",
       "    </tr>\n",
       "  </tbody>\n",
       "</table>\n",
       "</div>"
      ],
      "text/plain": [
       "        Comp_1   Comp_X     Comp_2     1    X     2  GainFactor\n",
       "60605  Coolbet  BetCity  ScandiBet  1.56  4.4  8.25      1.0106\n",
       "60600  Coolbet  BetCity  NightRush  1.56  4.4  8.25      1.0106\n",
       "60580  Coolbet  BetCity    Bethard  1.56  4.4  8.25      1.0106\n",
       "60571  Coolbet  BetCity  Asianodds  1.56  4.4  8.08      1.0080\n",
       "60603  Coolbet  BetCity   Pinnacle  1.56  4.4  8.08      1.0080"
      ]
     },
     "execution_count": 360,
     "metadata": {},
     "output_type": "execute_result"
    }
   ],
   "source": [
    "bets_comb.sort_values(\"GainFactor\",ascending=False).head()"
   ]
  },
  {
   "cell_type": "code",
   "execution_count": 374,
   "metadata": {},
   "outputs": [
    {
     "data": {
      "text/html": [
       "<div>\n",
       "<style scoped>\n",
       "    .dataframe tbody tr th:only-of-type {\n",
       "        vertical-align: middle;\n",
       "    }\n",
       "\n",
       "    .dataframe tbody tr th {\n",
       "        vertical-align: top;\n",
       "    }\n",
       "\n",
       "    .dataframe thead th {\n",
       "        text-align: right;\n",
       "    }\n",
       "</style>\n",
       "<table border=\"1\" class=\"dataframe\">\n",
       "  <thead>\n",
       "    <tr style=\"text-align: right;\">\n",
       "      <th></th>\n",
       "      <th>Comp_1</th>\n",
       "      <th>Comp_X</th>\n",
       "      <th>Comp_2</th>\n",
       "      <th>1</th>\n",
       "      <th>X</th>\n",
       "      <th>2</th>\n",
       "      <th>GainFactor</th>\n",
       "    </tr>\n",
       "  </thead>\n",
       "  <tbody>\n",
       "    <tr>\n",
       "      <th>60580</th>\n",
       "      <td>Coolbet</td>\n",
       "      <td>BetCity</td>\n",
       "      <td>Bethard</td>\n",
       "      <td>1.56</td>\n",
       "      <td>4.4</td>\n",
       "      <td>8.25</td>\n",
       "      <td>1.0106</td>\n",
       "    </tr>\n",
       "    <tr>\n",
       "      <th>60600</th>\n",
       "      <td>Coolbet</td>\n",
       "      <td>BetCity</td>\n",
       "      <td>NightRush</td>\n",
       "      <td>1.56</td>\n",
       "      <td>4.4</td>\n",
       "      <td>8.25</td>\n",
       "      <td>1.0106</td>\n",
       "    </tr>\n",
       "    <tr>\n",
       "      <th>60605</th>\n",
       "      <td>Coolbet</td>\n",
       "      <td>BetCity</td>\n",
       "      <td>ScandiBet</td>\n",
       "      <td>1.56</td>\n",
       "      <td>4.4</td>\n",
       "      <td>8.25</td>\n",
       "      <td>1.0106</td>\n",
       "    </tr>\n",
       "  </tbody>\n",
       "</table>\n",
       "</div>"
      ],
      "text/plain": [
       "        Comp_1   Comp_X     Comp_2     1    X     2  GainFactor\n",
       "60580  Coolbet  BetCity    Bethard  1.56  4.4  8.25      1.0106\n",
       "60600  Coolbet  BetCity  NightRush  1.56  4.4  8.25      1.0106\n",
       "60605  Coolbet  BetCity  ScandiBet  1.56  4.4  8.25      1.0106"
      ]
     },
     "execution_count": 374,
     "metadata": {},
     "output_type": "execute_result"
    }
   ],
   "source": [
    "bets_comb[bets_comb[\"GainFactor\"] > 1.01]"
   ]
  },
  {
   "cell_type": "code",
   "execution_count": 397,
   "metadata": {},
   "outputs": [
    {
     "data": {
      "text/plain": [
       "60580"
      ]
     },
     "execution_count": 397,
     "metadata": {},
     "output_type": "execute_result"
    }
   ],
   "source": [
    "idx = bets_comb['GainFactor'].idxmax()\n",
    "idx"
   ]
  },
  {
   "cell_type": "code",
   "execution_count": 429,
   "metadata": {},
   "outputs": [
    {
     "data": {
      "text/plain": [
       "array([6478., 2297., 1225.])"
      ]
     },
     "execution_count": 429,
     "metadata": {},
     "output_type": "execute_result"
    }
   ],
   "source": [
    "budget = 10000\n",
    "ff = np.array([1.56, 4.4, 8.25])\n",
    "bb = 1/ff*1.0106*budget\n",
    "bb = bb.round(0)\n",
    "bb"
   ]
  },
  {
   "cell_type": "code",
   "execution_count": 427,
   "metadata": {},
   "outputs": [
    {
     "data": {
      "text/plain": [
       "10000.0"
      ]
     },
     "execution_count": 427,
     "metadata": {},
     "output_type": "execute_result"
    }
   ],
   "source": [
    "bb.sum()"
   ]
  },
  {
   "cell_type": "code",
   "execution_count": 428,
   "metadata": {},
   "outputs": [
    {
     "data": {
      "text/plain": [
       "array([10105.68, 10106.8 , 10106.25])"
      ]
     },
     "execution_count": 428,
     "metadata": {},
     "output_type": "execute_result"
    }
   ],
   "source": [
    "bb*ff"
   ]
  },
  {
   "cell_type": "code",
   "execution_count": null,
   "metadata": {},
   "outputs": [],
   "source": []
  }
 ],
 "metadata": {
  "kernelspec": {
   "display_name": "Python 3",
   "language": "python",
   "name": "python3"
  },
  "language_info": {
   "codemirror_mode": {
    "name": "ipython",
    "version": 3
   },
   "file_extension": ".py",
   "mimetype": "text/x-python",
   "name": "python",
   "nbconvert_exporter": "python",
   "pygments_lexer": "ipython3",
   "version": "3.6.6"
  }
 },
 "nbformat": 4,
 "nbformat_minor": 2
}
